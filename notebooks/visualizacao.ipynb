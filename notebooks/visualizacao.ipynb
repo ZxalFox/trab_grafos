{
 "cells": [
  {
   "cell_type": "code",
   "execution_count": null,
   "metadata": {},
   "outputs": [
    {
     "name": "stdout",
     "output_type": "stream",
     "text": [
      "\n",
      "--- Totais ---\n",
      "Quantidade Total de Vértices: 15\n",
      "Quantidade Total de Arestas: 4\n",
      "Quantidade Total de Arcos: 30\n",
      "\n",
      "--- Requeridos ---\n",
      "Quantidade de Vértices Requeridos: 4\n",
      "Quantidade de Arestas Requeridas: 3\n",
      "Quantidade de Arcos Requeridos: 11\n",
      "\n",
      "--- Outros ---\n",
      "Densidade do Grafo: 0.1619047619047619\n",
      "Grau (mínimo, máximo): (0, 5)\n",
      "Componentes Conectados: 1\n",
      "Intermediação: {'N3': 0, 'N7': 0, 'N8': 0, 'N9': 0, '1': 12, '10': 14, '2': 20, '4': 0, '3': 6, '7': 0, '8': 8, '5': 12, '11': 6, '9': 18, '6': 8}\n",
      "Caminho Médio: 19.89090909090909\n",
      "Diâmetro: 36\n"
     ]
    }
   ],
   "source": [
    "import sys\n",
    "sys.path.append(\"../src\")\n",
    "sys.path.append(\"../data\")\n",
    "\n",
    "from leitura_dados import ler_arquivo\n",
    "from estatisticas import *\n",
    "\n",
    "grafo = ler_arquivo(\"../data/mggdb_0.25_4.dat\")\n",
    "\n",
    "print(\"\\n--- Totais ---\")\n",
    "print(f\"Quantidade Total de Vértices: {quantidade_vertices(grafo)}\")\n",
    "print(f\"Quantidade Total de Arestas: {quantidade_arestas(grafo)}\")\n",
    "print(f\"Quantidade Total de Arcos: {quantidade_arcos(grafo)}\")\n",
    "\n",
    "print(\"\\n--- Requeridos ---\")\n",
    "print(f\"Quantidade de Vértices Requeridos: {quantidade_vertices_requeridos(grafo)}\")\n",
    "print(f\"Quantidade de Arestas Requeridas: {quantidade_arestas_requeridas(grafo)}\")\n",
    "print(f\"Quantidade de Arcos Requeridos: {quantidade_arcos_requeridos(grafo)}\")\n",
    "\n",
    "print(\"\\n--- Outros ---\")\n",
    "print(\"Densidade do Grafo:\", densidade(grafo))\n",
    "print(\"Grau (mínimo, máximo):\", grau_min_max(grafo))\n",
    "\n",
    "caminhos, caminhos_completos = floyd_warshall(grafo)\n",
    "\n",
    "\n",
    "print(\"Componentes Conectados:\", componentes_conectados(grafo))\n",
    "print(\"Intermediação:\", intermediacao(grafo, caminhos_completos)) \n",
    "print(\"Caminho Médio:\", caminho_medio(caminhos))\n",
    "print(\"Diâmetro:\", diametro(caminhos))"
   ]
  }
 ],
 "metadata": {
  "kernelspec": {
   "display_name": "venv",
   "language": "python",
   "name": "python3"
  },
  "language_info": {
   "codemirror_mode": {
    "name": "ipython",
    "version": 3
   },
   "file_extension": ".py",
   "mimetype": "text/x-python",
   "name": "python",
   "nbconvert_exporter": "python",
   "pygments_lexer": "ipython3",
   "version": "3.13.2"
  }
 },
 "nbformat": 4,
 "nbformat_minor": 4
}
